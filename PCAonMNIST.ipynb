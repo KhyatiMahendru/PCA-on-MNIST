{
  "nbformat": 4,
  "nbformat_minor": 0,
  "metadata": {
    "colab": {
      "name": "PCAonMNIST.ipynb",
      "version": "0.3.2",
      "provenance": [],
      "include_colab_link": true
    },
    "language_info": {
      "codemirror_mode": {
        "name": "ipython",
        "version": 3
      },
      "file_extension": ".py",
      "mimetype": "text/x-python",
      "name": "python",
      "nbconvert_exporter": "python",
      "pygments_lexer": "ipython3",
      "version": "3.6.5"
    },
    "kernelspec": {
      "display_name": "Python 3",
      "language": "python",
      "name": "python3"
    }
  },
  "cells": [
    {
      "cell_type": "markdown",
      "metadata": {
        "id": "view-in-github",
        "colab_type": "text"
      },
      "source": [
        "<a href=\"https://colab.research.google.com/github/KhyatiMahendru/PCA-on-MNIST/blob/master/PCAonMNIST.ipynb\" target=\"_parent\"><img src=\"https://colab.research.google.com/assets/colab-badge.svg\" alt=\"Open In Colab\"/></a>"
      ]
    },
    {
      "cell_type": "markdown",
      "metadata": {
        "id": "0qBfUApYlayp",
        "colab_type": "text"
      },
      "source": [
        "# How to Implement Principal Component Analysis in Python?\n",
        "\n",
        " ### This notebook was developed for my internship at Analytics Vidhya as a part of the study material for their course on Applied Machine Learning in the Advanced Dimensionality Reduction module.\n",
        " \n",
        " ## What will we do?\n",
        " - Train a random forest classifier for digit label prediction on the original dataset\n",
        " - Transform the data using PCA\n",
        " - Train the same random forest classifier on the transformed data\n",
        " - Compare performance before and after PCA"
      ]
    },
    {
      "cell_type": "code",
      "metadata": {
        "id": "09x-ikvkxpVA",
        "colab_type": "code",
        "colab": {}
      },
      "source": [
        "# import required libraries\n",
        "import pandas as pd\n",
        "import numpy as np\n",
        "import matplotlib.pyplot as plt\n",
        "%matplotlib inline\n",
        "from sklearn.preprocessing import StandardScaler\n",
        "from sklearn.model_selection import train_test_split\n",
        "from sklearn.ensemble import RandomForestClassifier\n",
        "from sklearn.metrics import accuracy_score\n",
        "from sklearn.decomposition import PCA"
      ],
      "execution_count": 0,
      "outputs": []
    },
    {
      "cell_type": "code",
      "metadata": {
        "id": "DkjWALP-xpVX",
        "colab_type": "code",
        "colab": {}
      },
      "source": [
        "# fetch data\n",
        "from sklearn.datasets import fetch_openml\n",
        "df, target = fetch_openml('mnist_784', version=1, return_X_y=True)"
      ],
      "execution_count": 0,
      "outputs": []
    },
    {
      "cell_type": "code",
      "metadata": {
        "id": "MezTr8d6xpVq",
        "colab_type": "code",
        "outputId": "8472c90d-a132-4275-f626-a9a1151c3445",
        "colab": {
          "base_uri": "https://localhost:8080/",
          "height": 34
        }
      },
      "source": [
        "# check shape of data\n",
        "df.shape"
      ],
      "execution_count": 0,
      "outputs": [
        {
          "output_type": "execute_result",
          "data": {
            "text/plain": [
              "(70000, 784)"
            ]
          },
          "metadata": {
            "tags": []
          },
          "execution_count": 3
        }
      ]
    },
    {
      "cell_type": "code",
      "metadata": {
        "id": "7GRt_bGQxpV3",
        "colab_type": "code",
        "outputId": "91fb8858-18dd-46c3-f4d3-4bf3decb28a8",
        "colab": {
          "base_uri": "https://localhost:8080/",
          "height": 265
        }
      },
      "source": [
        "# Display the first image\n",
        "digit = df[0]\n",
        "digit_image = digit.reshape(28, 28)\n",
        "plt.imshow(digit_image, cmap=plt.cm.gray_r, interpolation=\"nearest\")\n",
        "plt.axis('off')\n",
        "plt.show()"
      ],
      "execution_count": 0,
      "outputs": [
        {
          "output_type": "display_data",
          "data": {
            "image/png": "[encoded data removed]",
            "text/plain": [
              "<Figure size 432x288 with 1 Axes>"
            ]
          },
          "metadata": {
            "tags": []
          }
        }
      ]
    },
    {
      "cell_type": "code",
      "metadata": {
        "id": "saPJx0HyxpWO",
        "colab_type": "code",
        "colab": {}
      },
      "source": [
        "# Standardise the data\n",
        "scaler = StandardScaler()\n",
        "df_scale = scaler.fit_transform(df)"
      ],
      "execution_count": 0,
      "outputs": []
    },
    {
      "cell_type": "code",
      "metadata": {
        "id": "rhLfF-BixpWn",
        "colab_type": "code",
        "outputId": "f0a5249e-feb8-4a98-9d15-571838a34c69",
        "colab": {
          "base_uri": "https://localhost:8080/",
          "height": 265
        }
      },
      "source": [
        "# Display the first image after standardisation\n",
        "digit_scale = df_scale[0]\n",
        "digit_scale_image = digit_scale.reshape(28, 28)\n",
        "plt.imshow(digit_scale_image, cmap=plt.cm.gray_r, interpolation=\"nearest\")\n",
        "plt.axis('off')\n",
        "plt.show()"
      ],
      "execution_count": 0,
      "outputs": [
        {
          "output_type": "display_data",
          "data": {
            "image/png": "[encoded data removed]",
            "text/plain": [
              "<Figure size 432x288 with 1 Axes>"
            ]
          },
          "metadata": {
            "tags": []
          }
        }
      ]
    },
    {
      "cell_type": "code",
      "metadata": {
        "id": "GKrHCU9gxpWz",
        "colab_type": "code",
        "colab": {}
      },
      "source": [
        "# creating the training and validation set\n",
        "X_train, X_valid, y_train, y_valid = train_test_split(df_scale, target, random_state = 10, test_size = 0.25)"
      ],
      "execution_count": 0,
      "outputs": []
    },
    {
      "cell_type": "code",
      "metadata": {
        "id": "OlgPOS4PxpXQ",
        "colab_type": "code",
        "colab": {}
      },
      "source": [
        "# creating the random forest classification model\n",
        "model = RandomForestClassifier(random_state=1, max_depth=3, n_estimators=100)"
      ],
      "execution_count": 0,
      "outputs": []
    },
    {
      "cell_type": "markdown",
      "metadata": {
        "id": "0wWci5JCxpXg",
        "colab_type": "text"
      },
      "source": [
        "# Classification without PCA"
      ]
    },
    {
      "cell_type": "code",
      "metadata": {
        "id": "jzuRxtBrxpXk",
        "colab_type": "code",
        "outputId": "c728409f-e79e-44a3-8455-0e79f822e640",
        "colab": {
          "base_uri": "https://localhost:8080/",
          "height": 136
        }
      },
      "source": [
        "# fit the classifier\n",
        "model.fit(X_train, y_train)"
      ],
      "execution_count": 0,
      "outputs": [
        {
          "output_type": "execute_result",
          "data": {
            "text/plain": [
              "RandomForestClassifier(bootstrap=True, class_weight=None, criterion='gini',\n",
              "                       max_depth=3, max_features='auto', max_leaf_nodes=None,\n",
              "                       min_impurity_decrease=0.0, min_impurity_split=None,\n",
              "                       min_samples_leaf=1, min_samples_split=2,\n",
              "                       min_weight_fraction_leaf=0.0, n_estimators=100,\n",
              "                       n_jobs=None, oob_score=False, random_state=1, verbose=0,\n",
              "                       warm_start=False)"
            ]
          },
          "metadata": {
            "tags": []
          },
          "execution_count": 9
        }
      ]
    },
    {
      "cell_type": "code",
      "metadata": {
        "id": "tNh4HE8FxpXw",
        "colab_type": "code",
        "colab": {}
      },
      "source": [
        "# predicting for the original validation set\n",
        "pred_1 = model.predict(X_valid)"
      ],
      "execution_count": 0,
      "outputs": []
    },
    {
      "cell_type": "code",
      "metadata": {
        "id": "in-qvnHGxpX_",
        "colab_type": "code",
        "outputId": "1a4597c8-b051-4574-e607-76adfbd479ad",
        "colab": {
          "base_uri": "https://localhost:8080/",
          "height": 34
        }
      },
      "source": [
        "# checking the training performance - Accuracy Score\n",
        "accuracy_score(model.predict(X_train), y_train)"
      ],
      "execution_count": 0,
      "outputs": [
        {
          "output_type": "execute_result",
          "data": {
            "text/plain": [
              "0.7542095238095238"
            ]
          },
          "metadata": {
            "tags": []
          },
          "execution_count": 11
        }
      ]
    },
    {
      "cell_type": "code",
      "metadata": {
        "scrolled": true,
        "id": "lIYxJqA2xpYN",
        "colab_type": "code",
        "outputId": "0a04bd85-fe87-49dc-bc02-064181775c87",
        "colab": {
          "base_uri": "https://localhost:8080/",
          "height": 34
        }
      },
      "source": [
        "# checking the validation performance - Accuracy Score\n",
        "accuracy_score(pred_1, y_valid)"
      ],
      "execution_count": 0,
      "outputs": [
        {
          "output_type": "execute_result",
          "data": {
            "text/plain": [
              "0.7529142857142858"
            ]
          },
          "metadata": {
            "tags": []
          },
          "execution_count": 12
        }
      ]
    },
    {
      "cell_type": "markdown",
      "metadata": {
        "id": "dPqE2_i1xpYc",
        "colab_type": "text"
      },
      "source": [
        "# Classification after PCA"
      ]
    },
    {
      "cell_type": "code",
      "metadata": {
        "id": "sXPTfuPZxpY7",
        "colab_type": "code",
        "colab": {}
      },
      "source": [
        "#Fitting the PCA algorithm on our data to find the appropriate number of principal components to keep\n",
        "pca = PCA().fit(X_train)"
      ],
      "execution_count": 0,
      "outputs": []
    },
    {
      "cell_type": "code",
      "metadata": {
        "id": "FFlkHnYUxpZL",
        "colab_type": "code",
        "outputId": "83e26d69-bede-4a73-9dc2-5b0cd5efd5f8",
        "colab": {
          "base_uri": "https://localhost:8080/",
          "height": 295
        }
      },
      "source": [
        "#Plotting the Cumulative Summation of the Explained Variance\n",
        "plt.figure()\n",
        "plt.plot(np.cumsum(pca.explained_variance_ratio_) * 100)\n",
        "plt.xlabel('Number of Components')\n",
        "plt.ylabel('Variance (%)')\n",
        "plt.title('MNIST - Explained Variance')\n",
        "\n",
        "# We want to preserve 95% of the variance so plot a horizontal line at 95% variance\n",
        "plt.axhline(y=95, color='r', linestyle='--')\n",
        "plt.show()"
      ],
      "execution_count": 0,
      "outputs": [
        {
          "output_type": "display_data",
          "data": {
            "image/png": "[encoded data removed]",
            "text/plain": [
              "<Figure size 432x288 with 1 Axes>"
            ]
          },
          "metadata": {
            "tags": []
          }
        }
      ]
    },
    {
      "cell_type": "code",
      "metadata": {
        "id": "Qg6EZ7mNxpZu",
        "colab_type": "code",
        "colab": {}
      },
      "source": [
        "# transforming the original train and validation set to 350 components\n",
        "\n",
        "# fit on the training data\n",
        "pca = PCA(350).fit(X_train)\n",
        "\n",
        "# transform both training and validation data\n",
        "X_train_transformed = pca.transform(X_train)\n",
        "X_valid_transformed = pca.transform(X_valid)"
      ],
      "execution_count": 0,
      "outputs": []
    },
    {
      "cell_type": "code",
      "metadata": {
        "id": "vqplBSkHxpaD",
        "colab_type": "code",
        "outputId": "33d734f3-a7d5-4f45-a4f0-aeaec11e5b56",
        "colab": {
          "base_uri": "https://localhost:8080/",
          "height": 34
        }
      },
      "source": [
        "# checking shape of data after PCA\n",
        "X_train_transformed.shape"
      ],
      "execution_count": 0,
      "outputs": [
        {
          "output_type": "execute_result",
          "data": {
            "text/plain": [
              "(52500, 350)"
            ]
          },
          "metadata": {
            "tags": []
          },
          "execution_count": 16
        }
      ]
    },
    {
      "cell_type": "code",
      "metadata": {
        "id": "A3FlOH-NxpaQ",
        "colab_type": "code",
        "outputId": "52d67dbe-7fc1-44b0-a92f-7aa9a2afd125",
        "colab": {
          "base_uri": "https://localhost:8080/",
          "height": 136
        }
      },
      "source": [
        "# fitting the same random forest model on transformed data\n",
        "model.fit(X_train_transformed,y_train)"
      ],
      "execution_count": 0,
      "outputs": [
        {
          "output_type": "execute_result",
          "data": {
            "text/plain": [
              "RandomForestClassifier(bootstrap=True, class_weight=None, criterion='gini',\n",
              "                       max_depth=3, max_features='auto', max_leaf_nodes=None,\n",
              "                       min_impurity_decrease=0.0, min_impurity_split=None,\n",
              "                       min_samples_leaf=1, min_samples_split=2,\n",
              "                       min_weight_fraction_leaf=0.0, n_estimators=100,\n",
              "                       n_jobs=None, oob_score=False, random_state=1, verbose=0,\n",
              "                       warm_start=False)"
            ]
          },
          "metadata": {
            "tags": []
          },
          "execution_count": 17
        }
      ]
    },
    {
      "cell_type": "code",
      "metadata": {
        "id": "YzV3N0Hkxpau",
        "colab_type": "code",
        "colab": {}
      },
      "source": [
        "# predicting for the transformed validation set\n",
        "pred_2 = model.predict(X_valid_transformed)"
      ],
      "execution_count": 0,
      "outputs": []
    },
    {
      "cell_type": "code",
      "metadata": {
        "id": "H1ZuPQ3kxpa6",
        "colab_type": "code",
        "outputId": "618e6919-aaf1-4a84-c235-59f2ed00377e",
        "colab": {
          "base_uri": "https://localhost:8080/",
          "height": 34
        }
      },
      "source": [
        "# checking the training performance after transformat- Accuracy Score\n",
        "accuracy_score(model.predict(X_train_transformed), y_train)"
      ],
      "execution_count": 0,
      "outputs": [
        {
          "output_type": "execute_result",
          "data": {
            "text/plain": [
              "0.7948"
            ]
          },
          "metadata": {
            "tags": []
          },
          "execution_count": 19
        }
      ]
    },
    {
      "cell_type": "code",
      "metadata": {
        "id": "vWhYVqfpxpcU",
        "colab_type": "code",
        "outputId": "59cd0810-50fa-4fc6-be8b-1e3d9babeef8",
        "colab": {
          "base_uri": "https://localhost:8080/",
          "height": 34
        }
      },
      "source": [
        "# checking the validation performance - Accuracy Score\n",
        "accuracy_score(pred_2, y_valid)"
      ],
      "execution_count": 0,
      "outputs": [
        {
          "output_type": "execute_result",
          "data": {
            "text/plain": [
              "0.7853714285714286"
            ]
          },
          "metadata": {
            "tags": []
          },
          "execution_count": 20
        }
      ]
    },
    {
      "cell_type": "markdown",
      "metadata": {
        "id": "wSDIwHFRm2km",
        "colab_type": "text"
      },
      "source": [
        "# Conclusion\n",
        "\n",
        "Accuracy of Classification has increased after PCA. This is probably due to elimination of all the unnecessary white-space pixels."
      ]
    }
  ]
}